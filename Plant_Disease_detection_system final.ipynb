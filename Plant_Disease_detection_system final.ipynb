{
  "cells": [
    {
      "cell_type": "markdown",
      "metadata": {
        "id": "kBtfKbbZentJ"
      },
      "source": [
        "# **Plant Disease Detection System for Sustainable Agriculture**\n",
        "\n",
        "---\n",
        "\n",
        "\n",
        "### •\tProblem statement\n",
        "Plant diseases are a significant threat to agricultural productivity worldwide, affecting crop yield and quality. Early detection of plant diseases can help in timely intervention, reducing crop loss and ensuring better food security. Identifying diseases from images of leaves is a challenging task due to the large variation in leaf appearance across different plant species and disease types. This project goal is to develop an automated system that classifies plant diseases based on images of leaves from various crops, including Apple, Cherry, Grape, and Corn, using Convolutional Neural Networks (CNNs).\n",
        "        \n",
        "\n",
        "---\n",
        "\n",
        "\n",
        "### •\tAim\n",
        "To design and implement a CNN based model that accurately detects and classifies plant disease from leaf images, identifying both healthy and diseased conditions .The system aims to support precision agriculture by enabling early diagnosis and improving crop management practices.\n",
        "\n",
        "\n",
        "---\n",
        "\n",
        "\n",
        "### •\tLearning objectives\n",
        "By the end of this project, we should be able to:\n",
        "1.\tUnderstand the Basics of Convolutional Neural Networks (CNNs):\n",
        "o\tLearn what CNNs are and how they work for classifying images.\n",
        "o\tGet familiar with the main parts of a CNN, such as convolution layers, pooling layers, and fully connected layers.\n",
        "2.\tPreprocess Images for Machine Learning:\n",
        "o\tLearn how to prepare images for training, including resizing, normalizing, and enhancing images to improve model performance.\n",
        "o\tUnderstand how to handle real-world image issues, like noise and distortions, which are common in datasets.\n",
        "3.\tBuild a CNN for Image Classification:\n",
        "o\tGain hands-on experience in creating a CNN to classify images of plant leaves.\n",
        "o\tLearn how to train and improve the CNN using tools like TensorFlow/Keras or PyTorch.\n",
        "4.\tUse Transfer Learning for Better Performance:\n",
        "o\tUnderstand how transfer learning works and how to use pre-trained models to make your model more accurate without needing too much data.\n",
        "5.\tEvaluate and Improve Your Model:\n",
        "o\tLearn how to check how well your model is performing using measures like accuracy, precision, and recall.\n",
        "o\tDiscover techniques to make your model better, including adjusting settings (hyperparameters) and preventing overfitting.\n",
        "6.\tDeploy Your Model as a Web App:\n",
        "o\tLearn how to put your trained model on the web, so others can use it, using tools like Flask or Django.\n",
        "o\tUnderstand how to make a simple webpage where people can upload leaf images and get predictions.\n",
        "7.\tUnderstand How AI is Used in Agriculture:\n",
        "o\tLearn about the real-world use of AI, especially in agriculture, and how it helps farmers detect plant diseases early to protect crops and improve yields.\n",
        "\n",
        "\n",
        "---\n",
        "\n",
        "\n",
        "### •\tProposed solution\n",
        "The proposed solution is a machine learning-based system that uses Convolutional Neural Networks (CNNs) to classify plant diseases. The system will:\n",
        "*\tInput: Images of leaves of different crops (Apple, Cherry, Grape, and Corn).\n",
        "*\tOutput: The predicted disease label (or healthy) for each image.\n",
        "*\tApproach:\n",
        "*\tCollect a dataset of leaf images that includes various plant diseases.\n",
        "*\tPreprocess the images to standardize size and perform data augmentation to prevent overfitting.\n",
        "*\tTrain a CNN model to extract features from the images and classify them into different disease categories.\n",
        "*\tUse pre-trained models like VGG16, ResNet, or EfficientNet with transfer learning to improve the model’s accuracy and reduce training time.\n",
        "*\tEvaluate the model on a test set to assess performance and accuracy.\n",
        "This system will help farmers and agricultural experts in identifying plant diseases early, enabling them to take preventive actions before the diseases spread and cause significant damage.\n",
        "\n",
        "---\n",
        "\n",
        "\n",
        "### •\tTools used\n",
        "The following tools and technologies will be used to develop the plant disease detection system:\n",
        "\n",
        " **Programming Language**\n",
        "*\tPython: Python is chosen for this project due to its strong support for machine learning, computer vision, and deep learning frameworks.\n",
        " Libraries and Frameworks\n",
        "*\tTensorFlow/Keras or PyTorch: These deep learning frameworks will be used to implement and train the CNN model. TensorFlow/Keras is preferred for its ease of use and wide community support.\n",
        "*\tOpenCV/Pillow (PIL): For image processing tasks like resizing, normalization, and augmentation.\n",
        "*\tNumPy & Pandas: For data manipulation, such as handling images as arrays and managing the dataset.\n",
        "*\tMatplotlib/Seaborn: For data visualization, including plotting training curves, confusion matrices, and model performance.\n",
        "*\tScikit-learn: For evaluation metrics and additional machine learning utilities like train-test splitting.\n",
        "Dataset\n",
        "*\tPlantVillage Dataset: A large, publicly available dataset containing images of diseased and healthy leaves from a variety of crops, including Apple, Cherry, Grape, and Corn. The dataset is used to train and test the CNN model.\n",
        "*\tImage Augmentation: Techniques like random rotations, flips, zooms, and color variations will be used to artificially increase the dataset size and improve model generalization.\n",
        " Model Architecture\n",
        "*\tConvolutional Neural Networks (CNNs): CNNs are ideal for image classification tasks. Layers in the CNN architecture will include:\n",
        "*\tConvolutional layers: To extract local features.\n",
        "*\tPooling layers: To reduce spatial dimensions and computational complexity.\n",
        "*\tFully connected layers: To perform classification based on learned features.\n",
        "\n"
      ]
    },
    {
      "cell_type": "code",
      "execution_count": 1,
      "metadata": {
        "colab": {
          "base_uri": "https://localhost:8080/"
        },
        "id": "RZgNBDXRZfY8",
        "outputId": "2c55080e-e1af-4bc2-ce0e-c025fc8c6247"
      },
      "outputs": [
        {
          "output_type": "stream",
          "name": "stdout",
          "text": [
            "Mounted at /content/drive\n"
          ]
        }
      ],
      "source": [
        "from google.colab import drive\n",
        "drive.mount('/content/drive')"
      ]
    },
    {
      "cell_type": "code",
      "execution_count": 2,
      "metadata": {
        "colab": {
          "base_uri": "https://localhost:8080/"
        },
        "id": "xOPw3ZCCSCLn",
        "outputId": "dffa8417-106b-4006-d466-03f4bc1db4c2"
      },
      "outputs": [
        {
          "output_type": "stream",
          "name": "stdout",
          "text": [
            "Successfully extracted '/content/drive/MyDrive/archive.zip' to '/content'\n"
          ]
        }
      ],
      "source": [
        "# prompt: generate code to unzip /content/drive/MyDrive/archive (2).zip this file at /content folder\n",
        "import zipfile\n",
        "import os\n",
        "\n",
        "\n",
        "# Define the path to the zip file and the extraction directory\n",
        "zip_file_path = \"/content/drive/MyDrive/archive.zip\"\n",
        "extract_dir = \"/content\"\n",
        "\n",
        "# Check if the zip file exists\n",
        "if os.path.exists(zip_file_path):\n",
        "    try:\n",
        "        # Create a ZipFile object\n",
        "        with zipfile.ZipFile(zip_file_path, 'r') as zip_ref:\n",
        "            # Extract all contents to the specified directory\n",
        "            zip_ref.extractall(extract_dir)\n",
        "        print(f\"Successfully extracted '{zip_file_path}' to '{extract_dir}'\")\n",
        "    except zipfile.BadZipFile:\n",
        "        print(f\"Error: '{zip_file_path}' is not a valid zip file.\")\n",
        "    except Exception as e:\n",
        "        print(f\"An error occurred: {e}\")\n",
        "else:\n",
        "    print(f\"Error: '{zip_file_path}' does not exist.\")\n"
      ]
    },
    {
      "cell_type": "code",
      "execution_count": 3,
      "metadata": {
        "id": "v2nuZfwuRwye"
      },
      "outputs": [],
      "source": [
        "import numpy as np\n",
        "import pandas as pd\n",
        "import matplotlib.pyplot as plt\n",
        "import pathlib\n",
        "import os\n",
        "import glob as gb\n",
        "import glob\n",
        "import cv2\n",
        "import tensorflow as tf"
      ]
    },
    {
      "cell_type": "code",
      "execution_count": 4,
      "metadata": {
        "id": "-F97pJG8Rmet"
      },
      "outputs": [],
      "source": [
        "train='/content/new plant diseases dataset(augmented)/New Plant Diseases Dataset(Augmented)/train'\n"
      ]
    },
    {
      "cell_type": "code",
      "execution_count": 5,
      "metadata": {
        "id": "t0C6Ns6HTxui"
      },
      "outputs": [],
      "source": [
        "size=224"
      ]
    },
    {
      "cell_type": "code",
      "execution_count": 6,
      "metadata": {
        "colab": {
          "base_uri": "https://localhost:8080/"
        },
        "id": "xGsuR2RjR-Ix",
        "outputId": "f7916899-cd5c-49db-9138-cebd7358f1b5"
      },
      "outputs": [
        {
          "output_type": "stream",
          "name": "stdout",
          "text": [
            "Found 63282 images belonging to 38 classes.\n"
          ]
        }
      ],
      "source": [
        "train_generator=tf.keras.preprocessing.image.ImageDataGenerator(\n",
        "    rotation_range=90,\n",
        "    width_shift_range=0.0,\n",
        "    height_shift_range=0.0,\n",
        "    shear_range=0.0,\n",
        "    zoom_range=0.0,\n",
        "    horizontal_flip=False,\n",
        "    vertical_flip=False,\n",
        "    rescale=1/255.0,\n",
        "    preprocessing_function=None,\n",
        "    validation_split=0.1,\n",
        ").flow_from_directory(train,\n",
        "                      batch_size=164,\n",
        "                      target_size=(size,size),\n",
        "                      subset=\"training\",\n",
        "                      color_mode='rgb', #\"rgb\", \"rgba\", or \"grayscale\"\n",
        "                      class_mode='categorical',  # Use 'binary', 'sparse','categorical' or None as needed\n",
        "                      shuffle=True)"
      ]
    },
    {
      "cell_type": "code",
      "execution_count": 7,
      "metadata": {
        "colab": {
          "base_uri": "https://localhost:8080/"
        },
        "id": "smaeQUueT3g0",
        "outputId": "3d45cdfc-d303-4466-d1ae-7fa926766dca"
      },
      "outputs": [
        {
          "output_type": "execute_result",
          "data": {
            "text/plain": [
              "{'Apple___Apple_scab': 0,\n",
              " 'Apple___Black_rot': 1,\n",
              " 'Apple___Cedar_apple_rust': 2,\n",
              " 'Apple___healthy': 3,\n",
              " 'Blueberry___healthy': 4,\n",
              " 'Cherry_(including_sour)___Powdery_mildew': 5,\n",
              " 'Cherry_(including_sour)___healthy': 6,\n",
              " 'Corn_(maize)___Cercospora_leaf_spot Gray_leaf_spot': 7,\n",
              " 'Corn_(maize)___Common_rust_': 8,\n",
              " 'Corn_(maize)___Northern_Leaf_Blight': 9,\n",
              " 'Corn_(maize)___healthy': 10,\n",
              " 'Grape___Black_rot': 11,\n",
              " 'Grape___Esca_(Black_Measles)': 12,\n",
              " 'Grape___Leaf_blight_(Isariopsis_Leaf_Spot)': 13,\n",
              " 'Grape___healthy': 14,\n",
              " 'Orange___Haunglongbing_(Citrus_greening)': 15,\n",
              " 'Peach___Bacterial_spot': 16,\n",
              " 'Peach___healthy': 17,\n",
              " 'Pepper,_bell___Bacterial_spot': 18,\n",
              " 'Pepper,_bell___healthy': 19,\n",
              " 'Potato___Early_blight': 20,\n",
              " 'Potato___Late_blight': 21,\n",
              " 'Potato___healthy': 22,\n",
              " 'Raspberry___healthy': 23,\n",
              " 'Soybean___healthy': 24,\n",
              " 'Squash___Powdery_mildew': 25,\n",
              " 'Strawberry___Leaf_scorch': 26,\n",
              " 'Strawberry___healthy': 27,\n",
              " 'Tomato___Bacterial_spot': 28,\n",
              " 'Tomato___Early_blight': 29,\n",
              " 'Tomato___Late_blight': 30,\n",
              " 'Tomato___Leaf_Mold': 31,\n",
              " 'Tomato___Septoria_leaf_spot': 32,\n",
              " 'Tomato___Spider_mites Two-spotted_spider_mite': 33,\n",
              " 'Tomato___Target_Spot': 34,\n",
              " 'Tomato___Tomato_Yellow_Leaf_Curl_Virus': 35,\n",
              " 'Tomato___Tomato_mosaic_virus': 36,\n",
              " 'Tomato___healthy': 37}"
            ]
          },
          "metadata": {},
          "execution_count": 7
        }
      ],
      "source": [
        "train_generator.class_indices"
      ]
    },
    {
      "cell_type": "code",
      "execution_count": 8,
      "metadata": {
        "id": "myhhC5krUJiS"
      },
      "outputs": [],
      "source": [
        "valid='/content/new plant diseases dataset(augmented)/New Plant Diseases Dataset(Augmented)/valid'\n"
      ]
    },
    {
      "cell_type": "code",
      "execution_count": 9,
      "metadata": {
        "colab": {
          "base_uri": "https://localhost:8080/"
        },
        "id": "ngIxOam5UCdp",
        "outputId": "19ded61e-8318-4e27-a29a-4cfe0dd073b2"
      },
      "outputs": [
        {
          "output_type": "stream",
          "name": "stdout",
          "text": [
            "Found 1742 images belonging to 38 classes.\n"
          ]
        }
      ],
      "source": [
        "valid_generator=tf.keras.preprocessing.image.ImageDataGenerator(\n",
        "    rescale=1/255.0,\n",
        "    preprocessing_function=None,\n",
        "    validation_split=0.1,\n",
        ").flow_from_directory(valid,\n",
        "                      batch_size=164,\n",
        "                      target_size=(224,224),\n",
        "                      subset='validation',\n",
        "                      color_mode='rgb', #\"rgb\", \"rgba\", or \"grayscale\"\n",
        "                      class_mode='categorical',  # Use 'binary', 'sparse','categorical' or None as needed\n",
        "                      shuffle=False)"
      ]
    },
    {
      "cell_type": "code",
      "execution_count": 10,
      "metadata": {
        "colab": {
          "base_uri": "https://localhost:8080/"
        },
        "id": "pylarwS5UXWt",
        "outputId": "0743b063-0b84-4c10-f2e2-22bdae8a9241"
      },
      "outputs": [
        {
          "output_type": "stream",
          "name": "stdout",
          "text": [
            "Found 17572 images belonging to 38 classes.\n"
          ]
        }
      ],
      "source": [
        "test='/content/new plant diseases dataset(augmented)/New Plant Diseases Dataset(Augmented)/valid'\n",
        "test_generator=tf.keras.preprocessing.image.ImageDataGenerator(\n",
        "    rescale=1/255.0,\n",
        "    preprocessing_function=None,\n",
        ").flow_from_directory(test,\n",
        "                      batch_size=164,\n",
        "                      target_size=(224,224),\n",
        "                      color_mode='rgb', #\"rgb\", \"rgba\", or \"grayscale\"\n",
        "                      class_mode='categorical',  # Use 'binary', 'sparse','categorical' or None as needed\n",
        "                      shuffle=False)"
      ]
    },
    {
      "cell_type": "code",
      "execution_count": 11,
      "metadata": {
        "colab": {
          "base_uri": "https://localhost:8080/"
        },
        "id": "6UyKAnSzo5P_",
        "outputId": "ef7f9364-9c29-4fe3-886b-5fb48a41ccc9"
      },
      "outputs": [
        {
          "output_type": "execute_result",
          "data": {
            "text/plain": [
              "{'Apple___Apple_scab': 0,\n",
              " 'Apple___Black_rot': 1,\n",
              " 'Apple___Cedar_apple_rust': 2,\n",
              " 'Apple___healthy': 3,\n",
              " 'Blueberry___healthy': 4,\n",
              " 'Cherry_(including_sour)___Powdery_mildew': 5,\n",
              " 'Cherry_(including_sour)___healthy': 6,\n",
              " 'Corn_(maize)___Cercospora_leaf_spot Gray_leaf_spot': 7,\n",
              " 'Corn_(maize)___Common_rust_': 8,\n",
              " 'Corn_(maize)___Northern_Leaf_Blight': 9,\n",
              " 'Corn_(maize)___healthy': 10,\n",
              " 'Grape___Black_rot': 11,\n",
              " 'Grape___Esca_(Black_Measles)': 12,\n",
              " 'Grape___Leaf_blight_(Isariopsis_Leaf_Spot)': 13,\n",
              " 'Grape___healthy': 14,\n",
              " 'Orange___Haunglongbing_(Citrus_greening)': 15,\n",
              " 'Peach___Bacterial_spot': 16,\n",
              " 'Peach___healthy': 17,\n",
              " 'Pepper,_bell___Bacterial_spot': 18,\n",
              " 'Pepper,_bell___healthy': 19,\n",
              " 'Potato___Early_blight': 20,\n",
              " 'Potato___Late_blight': 21,\n",
              " 'Potato___healthy': 22,\n",
              " 'Raspberry___healthy': 23,\n",
              " 'Soybean___healthy': 24,\n",
              " 'Squash___Powdery_mildew': 25,\n",
              " 'Strawberry___Leaf_scorch': 26,\n",
              " 'Strawberry___healthy': 27,\n",
              " 'Tomato___Bacterial_spot': 28,\n",
              " 'Tomato___Early_blight': 29,\n",
              " 'Tomato___Late_blight': 30,\n",
              " 'Tomato___Leaf_Mold': 31,\n",
              " 'Tomato___Septoria_leaf_spot': 32,\n",
              " 'Tomato___Spider_mites Two-spotted_spider_mite': 33,\n",
              " 'Tomato___Target_Spot': 34,\n",
              " 'Tomato___Tomato_Yellow_Leaf_Curl_Virus': 35,\n",
              " 'Tomato___Tomato_mosaic_virus': 36,\n",
              " 'Tomato___healthy': 37}"
            ]
          },
          "metadata": {},
          "execution_count": 11
        }
      ],
      "source": [
        "test_generator.class_indices"
      ]
    },
    {
      "cell_type": "code",
      "execution_count": 12,
      "metadata": {
        "colab": {
          "base_uri": "https://localhost:8080/",
          "height": 569
        },
        "id": "QXX5QNarUkuQ",
        "outputId": "a190bca9-de1d-4fb2-dc6b-0f8be65533bb"
      },
      "outputs": [
        {
          "output_type": "stream",
          "name": "stderr",
          "text": [
            "/usr/local/lib/python3.10/dist-packages/keras/src/layers/convolutional/base_conv.py:107: UserWarning: Do not pass an `input_shape`/`input_dim` argument to a layer. When using Sequential models, prefer using an `Input(shape)` object as the first layer in the model instead.\n",
            "  super().__init__(activity_regularizer=activity_regularizer, **kwargs)\n"
          ]
        },
        {
          "output_type": "display_data",
          "data": {
            "text/plain": [
              "\u001b[1mModel: \"sequential\"\u001b[0m\n"
            ],
            "text/html": [
              "<pre style=\"white-space:pre;overflow-x:auto;line-height:normal;font-family:Menlo,'DejaVu Sans Mono',consolas,'Courier New',monospace\"><span style=\"font-weight: bold\">Model: \"sequential\"</span>\n",
              "</pre>\n"
            ]
          },
          "metadata": {}
        },
        {
          "output_type": "display_data",
          "data": {
            "text/plain": [
              "┏━━━━━━━━━━━━━━━━━━━━━━━━━━━━━━━━━━━━━━┳━━━━━━━━━━━━━━━━━━━━━━━━━━━━━┳━━━━━━━━━━━━━━━━━┓\n",
              "┃\u001b[1m \u001b[0m\u001b[1mLayer (type)                        \u001b[0m\u001b[1m \u001b[0m┃\u001b[1m \u001b[0m\u001b[1mOutput Shape               \u001b[0m\u001b[1m \u001b[0m┃\u001b[1m \u001b[0m\u001b[1m        Param #\u001b[0m\u001b[1m \u001b[0m┃\n",
              "┡━━━━━━━━━━━━━━━━━━━━━━━━━━━━━━━━━━━━━━╇━━━━━━━━━━━━━━━━━━━━━━━━━━━━━╇━━━━━━━━━━━━━━━━━┩\n",
              "│ Conv1 (\u001b[38;5;33mConv2D\u001b[0m)                       │ (\u001b[38;5;45mNone\u001b[0m, \u001b[38;5;34m224\u001b[0m, \u001b[38;5;34m224\u001b[0m, \u001b[38;5;34m32\u001b[0m)        │           \u001b[38;5;34m4,736\u001b[0m │\n",
              "├──────────────────────────────────────┼─────────────────────────────┼─────────────────┤\n",
              "│ Pool1 (\u001b[38;5;33mMaxPooling2D\u001b[0m)                 │ (\u001b[38;5;45mNone\u001b[0m, \u001b[38;5;34m112\u001b[0m, \u001b[38;5;34m112\u001b[0m, \u001b[38;5;34m32\u001b[0m)        │               \u001b[38;5;34m0\u001b[0m │\n",
              "├──────────────────────────────────────┼─────────────────────────────┼─────────────────┤\n",
              "│ Conv2 (\u001b[38;5;33mConv2D\u001b[0m)                       │ (\u001b[38;5;45mNone\u001b[0m, \u001b[38;5;34m112\u001b[0m, \u001b[38;5;34m112\u001b[0m, \u001b[38;5;34m64\u001b[0m)        │          \u001b[38;5;34m51,264\u001b[0m │\n",
              "├──────────────────────────────────────┼─────────────────────────────┼─────────────────┤\n",
              "│ Pool2 (\u001b[38;5;33mMaxPooling2D\u001b[0m)                 │ (\u001b[38;5;45mNone\u001b[0m, \u001b[38;5;34m56\u001b[0m, \u001b[38;5;34m56\u001b[0m, \u001b[38;5;34m64\u001b[0m)          │               \u001b[38;5;34m0\u001b[0m │\n",
              "├──────────────────────────────────────┼─────────────────────────────┼─────────────────┤\n",
              "│ Conv3 (\u001b[38;5;33mConv2D\u001b[0m)                       │ (\u001b[38;5;45mNone\u001b[0m, \u001b[38;5;34m56\u001b[0m, \u001b[38;5;34m56\u001b[0m, \u001b[38;5;34m128\u001b[0m)         │          \u001b[38;5;34m73,856\u001b[0m │\n",
              "├──────────────────────────────────────┼─────────────────────────────┼─────────────────┤\n",
              "│ Conv4 (\u001b[38;5;33mConv2D\u001b[0m)                       │ (\u001b[38;5;45mNone\u001b[0m, \u001b[38;5;34m56\u001b[0m, \u001b[38;5;34m56\u001b[0m, \u001b[38;5;34m256\u001b[0m)         │         \u001b[38;5;34m295,168\u001b[0m │\n",
              "├──────────────────────────────────────┼─────────────────────────────┼─────────────────┤\n",
              "│ Pool3 (\u001b[38;5;33mMaxPooling2D\u001b[0m)                 │ (\u001b[38;5;45mNone\u001b[0m, \u001b[38;5;34m28\u001b[0m, \u001b[38;5;34m28\u001b[0m, \u001b[38;5;34m256\u001b[0m)         │               \u001b[38;5;34m0\u001b[0m │\n",
              "├──────────────────────────────────────┼─────────────────────────────┼─────────────────┤\n",
              "│ Flatten1 (\u001b[38;5;33mFlatten\u001b[0m)                   │ (\u001b[38;5;45mNone\u001b[0m, \u001b[38;5;34m200704\u001b[0m)              │               \u001b[38;5;34m0\u001b[0m │\n",
              "├──────────────────────────────────────┼─────────────────────────────┼─────────────────┤\n",
              "│ Dense1 (\u001b[38;5;33mDense\u001b[0m)                       │ (\u001b[38;5;45mNone\u001b[0m, \u001b[38;5;34m128\u001b[0m)                 │      \u001b[38;5;34m25,690,240\u001b[0m │\n",
              "├──────────────────────────────────────┼─────────────────────────────┼─────────────────┤\n",
              "│ Dense2 (\u001b[38;5;33mDense\u001b[0m)                       │ (\u001b[38;5;45mNone\u001b[0m, \u001b[38;5;34m64\u001b[0m)                  │           \u001b[38;5;34m8,256\u001b[0m │\n",
              "├──────────────────────────────────────┼─────────────────────────────┼─────────────────┤\n",
              "│ Output (\u001b[38;5;33mDense\u001b[0m)                       │ (\u001b[38;5;45mNone\u001b[0m, \u001b[38;5;34m38\u001b[0m)                  │           \u001b[38;5;34m2,470\u001b[0m │\n",
              "└──────────────────────────────────────┴─────────────────────────────┴─────────────────┘\n"
            ],
            "text/html": [
              "<pre style=\"white-space:pre;overflow-x:auto;line-height:normal;font-family:Menlo,'DejaVu Sans Mono',consolas,'Courier New',monospace\">┏━━━━━━━━━━━━━━━━━━━━━━━━━━━━━━━━━━━━━━┳━━━━━━━━━━━━━━━━━━━━━━━━━━━━━┳━━━━━━━━━━━━━━━━━┓\n",
              "┃<span style=\"font-weight: bold\"> Layer (type)                         </span>┃<span style=\"font-weight: bold\"> Output Shape                </span>┃<span style=\"font-weight: bold\">         Param # </span>┃\n",
              "┡━━━━━━━━━━━━━━━━━━━━━━━━━━━━━━━━━━━━━━╇━━━━━━━━━━━━━━━━━━━━━━━━━━━━━╇━━━━━━━━━━━━━━━━━┩\n",
              "│ Conv1 (<span style=\"color: #0087ff; text-decoration-color: #0087ff\">Conv2D</span>)                       │ (<span style=\"color: #00d7ff; text-decoration-color: #00d7ff\">None</span>, <span style=\"color: #00af00; text-decoration-color: #00af00\">224</span>, <span style=\"color: #00af00; text-decoration-color: #00af00\">224</span>, <span style=\"color: #00af00; text-decoration-color: #00af00\">32</span>)        │           <span style=\"color: #00af00; text-decoration-color: #00af00\">4,736</span> │\n",
              "├──────────────────────────────────────┼─────────────────────────────┼─────────────────┤\n",
              "│ Pool1 (<span style=\"color: #0087ff; text-decoration-color: #0087ff\">MaxPooling2D</span>)                 │ (<span style=\"color: #00d7ff; text-decoration-color: #00d7ff\">None</span>, <span style=\"color: #00af00; text-decoration-color: #00af00\">112</span>, <span style=\"color: #00af00; text-decoration-color: #00af00\">112</span>, <span style=\"color: #00af00; text-decoration-color: #00af00\">32</span>)        │               <span style=\"color: #00af00; text-decoration-color: #00af00\">0</span> │\n",
              "├──────────────────────────────────────┼─────────────────────────────┼─────────────────┤\n",
              "│ Conv2 (<span style=\"color: #0087ff; text-decoration-color: #0087ff\">Conv2D</span>)                       │ (<span style=\"color: #00d7ff; text-decoration-color: #00d7ff\">None</span>, <span style=\"color: #00af00; text-decoration-color: #00af00\">112</span>, <span style=\"color: #00af00; text-decoration-color: #00af00\">112</span>, <span style=\"color: #00af00; text-decoration-color: #00af00\">64</span>)        │          <span style=\"color: #00af00; text-decoration-color: #00af00\">51,264</span> │\n",
              "├──────────────────────────────────────┼─────────────────────────────┼─────────────────┤\n",
              "│ Pool2 (<span style=\"color: #0087ff; text-decoration-color: #0087ff\">MaxPooling2D</span>)                 │ (<span style=\"color: #00d7ff; text-decoration-color: #00d7ff\">None</span>, <span style=\"color: #00af00; text-decoration-color: #00af00\">56</span>, <span style=\"color: #00af00; text-decoration-color: #00af00\">56</span>, <span style=\"color: #00af00; text-decoration-color: #00af00\">64</span>)          │               <span style=\"color: #00af00; text-decoration-color: #00af00\">0</span> │\n",
              "├──────────────────────────────────────┼─────────────────────────────┼─────────────────┤\n",
              "│ Conv3 (<span style=\"color: #0087ff; text-decoration-color: #0087ff\">Conv2D</span>)                       │ (<span style=\"color: #00d7ff; text-decoration-color: #00d7ff\">None</span>, <span style=\"color: #00af00; text-decoration-color: #00af00\">56</span>, <span style=\"color: #00af00; text-decoration-color: #00af00\">56</span>, <span style=\"color: #00af00; text-decoration-color: #00af00\">128</span>)         │          <span style=\"color: #00af00; text-decoration-color: #00af00\">73,856</span> │\n",
              "├──────────────────────────────────────┼─────────────────────────────┼─────────────────┤\n",
              "│ Conv4 (<span style=\"color: #0087ff; text-decoration-color: #0087ff\">Conv2D</span>)                       │ (<span style=\"color: #00d7ff; text-decoration-color: #00d7ff\">None</span>, <span style=\"color: #00af00; text-decoration-color: #00af00\">56</span>, <span style=\"color: #00af00; text-decoration-color: #00af00\">56</span>, <span style=\"color: #00af00; text-decoration-color: #00af00\">256</span>)         │         <span style=\"color: #00af00; text-decoration-color: #00af00\">295,168</span> │\n",
              "├──────────────────────────────────────┼─────────────────────────────┼─────────────────┤\n",
              "│ Pool3 (<span style=\"color: #0087ff; text-decoration-color: #0087ff\">MaxPooling2D</span>)                 │ (<span style=\"color: #00d7ff; text-decoration-color: #00d7ff\">None</span>, <span style=\"color: #00af00; text-decoration-color: #00af00\">28</span>, <span style=\"color: #00af00; text-decoration-color: #00af00\">28</span>, <span style=\"color: #00af00; text-decoration-color: #00af00\">256</span>)         │               <span style=\"color: #00af00; text-decoration-color: #00af00\">0</span> │\n",
              "├──────────────────────────────────────┼─────────────────────────────┼─────────────────┤\n",
              "│ Flatten1 (<span style=\"color: #0087ff; text-decoration-color: #0087ff\">Flatten</span>)                   │ (<span style=\"color: #00d7ff; text-decoration-color: #00d7ff\">None</span>, <span style=\"color: #00af00; text-decoration-color: #00af00\">200704</span>)              │               <span style=\"color: #00af00; text-decoration-color: #00af00\">0</span> │\n",
              "├──────────────────────────────────────┼─────────────────────────────┼─────────────────┤\n",
              "│ Dense1 (<span style=\"color: #0087ff; text-decoration-color: #0087ff\">Dense</span>)                       │ (<span style=\"color: #00d7ff; text-decoration-color: #00d7ff\">None</span>, <span style=\"color: #00af00; text-decoration-color: #00af00\">128</span>)                 │      <span style=\"color: #00af00; text-decoration-color: #00af00\">25,690,240</span> │\n",
              "├──────────────────────────────────────┼─────────────────────────────┼─────────────────┤\n",
              "│ Dense2 (<span style=\"color: #0087ff; text-decoration-color: #0087ff\">Dense</span>)                       │ (<span style=\"color: #00d7ff; text-decoration-color: #00d7ff\">None</span>, <span style=\"color: #00af00; text-decoration-color: #00af00\">64</span>)                  │           <span style=\"color: #00af00; text-decoration-color: #00af00\">8,256</span> │\n",
              "├──────────────────────────────────────┼─────────────────────────────┼─────────────────┤\n",
              "│ Output (<span style=\"color: #0087ff; text-decoration-color: #0087ff\">Dense</span>)                       │ (<span style=\"color: #00d7ff; text-decoration-color: #00d7ff\">None</span>, <span style=\"color: #00af00; text-decoration-color: #00af00\">38</span>)                  │           <span style=\"color: #00af00; text-decoration-color: #00af00\">2,470</span> │\n",
              "└──────────────────────────────────────┴─────────────────────────────┴─────────────────┘\n",
              "</pre>\n"
            ]
          },
          "metadata": {}
        },
        {
          "output_type": "display_data",
          "data": {
            "text/plain": [
              "\u001b[1m Total params: \u001b[0m\u001b[38;5;34m26,125,990\u001b[0m (99.66 MB)\n"
            ],
            "text/html": [
              "<pre style=\"white-space:pre;overflow-x:auto;line-height:normal;font-family:Menlo,'DejaVu Sans Mono',consolas,'Courier New',monospace\"><span style=\"font-weight: bold\"> Total params: </span><span style=\"color: #00af00; text-decoration-color: #00af00\">26,125,990</span> (99.66 MB)\n",
              "</pre>\n"
            ]
          },
          "metadata": {}
        },
        {
          "output_type": "display_data",
          "data": {
            "text/plain": [
              "\u001b[1m Trainable params: \u001b[0m\u001b[38;5;34m26,125,990\u001b[0m (99.66 MB)\n"
            ],
            "text/html": [
              "<pre style=\"white-space:pre;overflow-x:auto;line-height:normal;font-family:Menlo,'DejaVu Sans Mono',consolas,'Courier New',monospace\"><span style=\"font-weight: bold\"> Trainable params: </span><span style=\"color: #00af00; text-decoration-color: #00af00\">26,125,990</span> (99.66 MB)\n",
              "</pre>\n"
            ]
          },
          "metadata": {}
        },
        {
          "output_type": "display_data",
          "data": {
            "text/plain": [
              "\u001b[1m Non-trainable params: \u001b[0m\u001b[38;5;34m0\u001b[0m (0.00 B)\n"
            ],
            "text/html": [
              "<pre style=\"white-space:pre;overflow-x:auto;line-height:normal;font-family:Menlo,'DejaVu Sans Mono',consolas,'Courier New',monospace\"><span style=\"font-weight: bold\"> Non-trainable params: </span><span style=\"color: #00af00; text-decoration-color: #00af00\">0</span> (0.00 B)\n",
              "</pre>\n"
            ]
          },
          "metadata": {}
        },
        {
          "output_type": "stream",
          "name": "stdout",
          "text": [
            "None\n"
          ]
        }
      ],
      "source": [
        "from tensorflow import keras\n",
        "model = keras.models.Sequential()  # To build NN\n",
        "\n",
        "model.add(keras.layers.Conv2D(filters=32, kernel_size=7, strides=1,\n",
        "                padding=\"same\", activation=\"relu\", name=\"Conv1\", input_shape= (224,224,3)))\n",
        "\n",
        "model.add(keras.layers.MaxPool2D(pool_size=2, name=\"Pool1\"))\n",
        "\n",
        "model.add(keras.layers.Conv2D(filters=64, kernel_size=5, strides=1,\n",
        "                              padding=\"same\", activation=\"relu\", name=\"Conv2\"))\n",
        "model.add(keras.layers.MaxPool2D(pool_size=2, name=\"Pool2\"))\n",
        "\n",
        "model.add(keras.layers.Conv2D(filters=128, kernel_size=3, strides=1,\n",
        "                              padding=\"same\", activation=\"relu\", name=\"Conv3\"))\n",
        "\n",
        "model.add(keras.layers.Conv2D(filters=256, kernel_size=3, strides=1,\n",
        "                              padding=\"same\", activation=\"relu\", name=\"Conv4\"))\n",
        "\n",
        "model.add(keras.layers.MaxPool2D(pool_size=2, name=\"Pool3\"))\n",
        "\n",
        "model.add(keras.layers.Flatten(name=\"Flatten1\"))   #flatten layer - to convert into 1d vector\n",
        "\n",
        "model.add(keras.layers.Dense(128, activation=\"relu\", name=\"Dense1\"))  #hidden layer\n",
        "tf.keras.layers.Dropout(0.5)\n",
        "\n",
        "model.add(keras.layers.Dense(64, activation=\"relu\", name=\"Dense2\"))  #hidden layer\n",
        "tf.keras.layers.Dropout(0.5)\n",
        "\n",
        "model.add(keras.layers.Dense(38, activation=\"softmax\", name=\"Output\"))  #output layer\n",
        "\n",
        "# The model’s summary() method displays all the model’s layers\n",
        "print(model.summary())"
      ]
    },
    {
      "cell_type": "code",
      "execution_count": 13,
      "metadata": {
        "id": "iD_b3LuCUt0L"
      },
      "outputs": [],
      "source": [
        "from tensorflow.keras.callbacks import EarlyStopping, ModelCheckpoint,ReduceLROnPlateau\n",
        "\n",
        "early_stopping = EarlyStopping(monitor='val_loss', patience=15, restore_best_weights=True)\n",
        "\n",
        "model_checkpoint = ModelCheckpoint('best_model.keras', monitor='val_loss', save_best_only=True)\n",
        "\n",
        "model_ReduceLROnPlateau = ReduceLROnPlateau(monitor='val_loss', factor=0.1, patience=15, min_lr=0.000001)\n",
        "\n",
        "callbacks=[early_stopping,model_checkpoint,model_ReduceLROnPlateau]"
      ]
    },
    {
      "cell_type": "code",
      "execution_count": 14,
      "metadata": {
        "id": "yieaBsGCVArV"
      },
      "outputs": [],
      "source": [
        "model.compile(loss='categorical_crossentropy', optimizer= 'Adam', metrics=[\"accuracy\",\"precision\",\"recall\"])"
      ]
    },
    {
      "cell_type": "code",
      "execution_count": 15,
      "metadata": {
        "colab": {
          "base_uri": "https://localhost:8080/"
        },
        "id": "f97cqWjuVFcu",
        "outputId": "b7292ae9-9c03-4cc4-d7a6-a9256c802e5c"
      },
      "outputs": [
        {
          "output_type": "stream",
          "name": "stdout",
          "text": [
            "Epoch 1/5\n"
          ]
        },
        {
          "output_type": "stream",
          "name": "stderr",
          "text": [
            "/usr/local/lib/python3.10/dist-packages/keras/src/trainers/data_adapters/py_dataset_adapter.py:122: UserWarning: Your `PyDataset` class should call `super().__init__(**kwargs)` in its constructor. `**kwargs` can include `workers`, `use_multiprocessing`, `max_queue_size`. Do not pass these arguments to `fit()`, as they will be ignored.\n",
            "  self._warn_if_super_not_called()\n"
          ]
        },
        {
          "output_type": "stream",
          "name": "stdout",
          "text": [
            "\u001b[1m386/386\u001b[0m \u001b[32m━━━━━━━━━━━━━━━━━━━━\u001b[0m\u001b[37m\u001b[0m \u001b[1m942s\u001b[0m 2s/step - accuracy: 0.2069 - loss: 3.0071 - precision: 0.5752 - recall: 0.0884 - val_accuracy: 0.5827 - val_loss: 1.4157 - val_precision: 0.7160 - val_recall: 0.4472 - learning_rate: 0.0010\n",
            "Epoch 2/5\n",
            "\u001b[1m386/386\u001b[0m \u001b[32m━━━━━━━━━━━━━━━━━━━━\u001b[0m\u001b[37m\u001b[0m \u001b[1m850s\u001b[0m 2s/step - accuracy: 0.6773 - loss: 1.0461 - precision: 0.8057 - recall: 0.5554 - val_accuracy: 0.7744 - val_loss: 0.7163 - val_precision: 0.8532 - val_recall: 0.7038 - learning_rate: 0.0010\n",
            "Epoch 3/5\n",
            "\u001b[1m386/386\u001b[0m \u001b[32m━━━━━━━━━━━━━━━━━━━━\u001b[0m\u001b[37m\u001b[0m \u001b[1m860s\u001b[0m 2s/step - accuracy: 0.8161 - loss: 0.5844 - precision: 0.8754 - recall: 0.7653 - val_accuracy: 0.8444 - val_loss: 0.4886 - val_precision: 0.8822 - val_recall: 0.8123 - learning_rate: 0.0010\n",
            "Epoch 4/5\n",
            "\u001b[1m386/386\u001b[0m \u001b[32m━━━━━━━━━━━━━━━━━━━━\u001b[0m\u001b[37m\u001b[0m \u001b[1m850s\u001b[0m 2s/step - accuracy: 0.8671 - loss: 0.4105 - precision: 0.9018 - recall: 0.8394 - val_accuracy: 0.8645 - val_loss: 0.4067 - val_precision: 0.8946 - val_recall: 0.8427 - learning_rate: 0.0010\n",
            "Epoch 5/5\n",
            "\u001b[1m386/386\u001b[0m \u001b[32m━━━━━━━━━━━━━━━━━━━━\u001b[0m\u001b[37m\u001b[0m \u001b[1m859s\u001b[0m 2s/step - accuracy: 0.8954 - loss: 0.3173 - precision: 0.9192 - recall: 0.8759 - val_accuracy: 0.8967 - val_loss: 0.3201 - val_precision: 0.9211 - val_recall: 0.8777 - learning_rate: 0.0010\n"
          ]
        }
      ],
      "source": [
        "history = model.fit(train_generator,\n",
        "                    epochs          = 5,\n",
        "                    validation_data = valid_generator,\n",
        "                    callbacks = callbacks\n",
        "                    )"
      ]
    },
    {
      "cell_type": "code",
      "execution_count": 16,
      "metadata": {
        "id": "Cu3e5CmlnAOF"
      },
      "outputs": [],
      "source": [
        "import seaborn as sns\n",
        "sns.set()\n",
        "\n",
        "acc = history.history['accuracy']\n",
        "val_acc = history.history['val_accuracy']\n",
        "\n",
        "precision = history.history['precision']\n",
        "val_precision = history.history['val_precision']\n",
        "\n",
        "recall =history.history['recall']\n",
        "val_recall =history.history['val_recall']\n",
        "\n",
        "loss = history.history['loss']\n",
        "val_loss = history.history['val_loss']\n",
        "\n",
        "epochs = range(1, len(loss) + 1)"
      ]
    },
    {
      "cell_type": "code",
      "execution_count": 17,
      "metadata": {
        "colab": {
          "base_uri": "https://localhost:8080/",
          "height": 480
        },
        "id": "wZ1V_qkTVNei",
        "outputId": "385e0f09-3757-41b4-c263-70a569ec9d18"
      },
      "outputs": [
        {
          "output_type": "display_data",
          "data": {
            "text/plain": [
              "<Figure size 640x480 with 1 Axes>"
            ],
            "image/png": "[encoded data removed]"
          },
          "metadata": {}
        }
      ],
      "source": [
        "plt.plot(epochs, acc, color='green', label='Training Accuracy')\n",
        "plt.plot(epochs, val_acc, color='blue', label='Validation Accuracy')\n",
        "plt.title('Training and Validation Accuracy')\n",
        "plt.ylabel('Accuracy')\n",
        "plt.xlabel('Epoch')\n",
        "plt.legend()\n",
        "plt.ylim(0,1.02)\n",
        "plt.show()"
      ]
    },
    {
      "cell_type": "code",
      "execution_count": 18,
      "metadata": {
        "colab": {
          "base_uri": "https://localhost:8080/"
        },
        "id": "PAciHAVGoiUB",
        "outputId": "0c4ad2fb-46fa-4c6f-fcf8-2bed504f6b7f"
      },
      "outputs": [
        {
          "output_type": "stream",
          "name": "stderr",
          "text": [
            "/usr/local/lib/python3.10/dist-packages/keras/src/trainers/data_adapters/py_dataset_adapter.py:122: UserWarning: Your `PyDataset` class should call `super().__init__(**kwargs)` in its constructor. `**kwargs` can include `workers`, `use_multiprocessing`, `max_queue_size`. Do not pass these arguments to `fit()`, as they will be ignored.\n",
            "  self._warn_if_super_not_called()\n"
          ]
        },
        {
          "output_type": "stream",
          "name": "stdout",
          "text": [
            "\u001b[1m108/108\u001b[0m \u001b[32m━━━━━━━━━━━━━━━━━━━━\u001b[0m\u001b[37m\u001b[0m \u001b[1m43s\u001b[0m 400ms/step - accuracy: 0.9118 - loss: 0.2856 - precision: 0.9263 - recall: 0.8971\n",
            "Loss     :  0.30230164527893066\n",
            "Accuracy :  0.9036535620689392\n",
            "Precision  :  0.9222669005393982\n",
            "Recall :  0.8872069120407104\n"
          ]
        }
      ],
      "source": [
        "model_evaluate = model.evaluate(test_generator)\n",
        "print(\"Loss     : \",model_evaluate[0])\n",
        "print(\"Accuracy : \",model_evaluate[1])\n",
        "print(\"Precision  : \",model_evaluate[2])\n",
        "print(\"Recall : \",model_evaluate[3])"
      ]
    },
    {
      "cell_type": "code",
      "execution_count": 19,
      "metadata": {
        "id": "94WEzTXfqrCt"
      },
      "outputs": [],
      "source": [
        "model.save('CNN_plantdiseases_model.keras')"
      ]
    },
    {
      "cell_type": "markdown",
      "source": [
        "**WEB APPLICATION PROGRAM**\n",
        "\n",
        "\n",
        "This Python-based web application uses Streamlit for building an intuitive interface to detect plant diseases. It allows users to upload an image of a plant leaf, which is processed and analyzed using a pre-trained Convolutional Neural Network (CNN) model. The application predicts the disease category or confirms a healthy plant and displays the result along with the corresponding disease name. Features include:  \n",
        "\n",
        "1. **Image Upload**: Users can upload leaf images for disease detection.  \n",
        "2. **Model Prediction**: The system preprocesses the image, runs it through a TensorFlow model, and predicts the disease class.  \n",
        "3. **Interactive Design**: Includes a sidebar for navigation between the home page and disease recognition page.  \n",
        "4. **Feedback Display**: Provides a visually appealing prediction result with snowflake effects for user engagement.  \n",
        "\n",
        "This tool aids sustainable agriculture by enabling early identification of plant diseases."
      ],
      "metadata": {
        "id": "jgQmxR6VPP21"
      }
    },
    {
      "cell_type": "code",
      "execution_count": null,
      "metadata": {
        "id": "kx_zVEaBBy5G"
      },
      "outputs": [],
      "source": [
        "import streamlit as st\n",
        "import tensorflow as tf\n",
        "import numpy as np\n",
        "import cv2\n",
        "import os\n",
        "\n",
        "\n",
        "# Load and preprocess the image\n",
        "def model_predict(image_path):\n",
        "    model = tf.keras.models.load_model(r\"C:/Users/Asus/Downloads/CNN_plantdiseases_model.keras\")\n",
        "    img = cv2.imread(image_path)\n",
        "    H,W,C = 224,224,3\n",
        "    img = cv2.resize(img, (H, W))\n",
        "    img = cv2.cvtColor(img, cv2.COLOR_BGR2RGB)\n",
        "    img = np.array(img)\n",
        "    img = img.astype(\"float32\")\n",
        "    img = img / 255.0\n",
        "    img = img.reshape(1,H,W,C)\n",
        "\n",
        "    prediction = np.argmax(model.predict(img),axis=-1)[0]\n",
        "\n",
        "    return prediction\n",
        "\n",
        "\n",
        "\n",
        "\n",
        "st.sidebar.title(\"Plant Disease Detection System for Sustainable Agriculture\")\n",
        "app_mode = st.sidebar.selectbox(\"Select Page\",[\"HOME\",\"DISEASE RECOGNITION\"])\n",
        "\n",
        "\n",
        "from PIL import Image\n",
        "img = Image.open(r\"C:\\Users\\Asus\\Downloads\\Diseases.png\")\n",
        "\n",
        "\n",
        "st.image(img)\n",
        "\n",
        "#Main Page\n",
        "if(app_mode==\"HOME\"):\n",
        "    st.markdown(\"<h1 style='text-align: center;'>Plant Disease Detection System for Sustainable Agriculture\", unsafe_allow_html=True)\n",
        "\n",
        "#Prediction Page\n",
        "elif(app_mode==\"DISEASE RECOGNITION\"):\n",
        "    st.header(\"Plant Disease Detection System for Sustainable Agriculture\")\n",
        "    test_image = st.file_uploader(\"Choose an Image:\")\n",
        "\n",
        "\n",
        "    if test_image is not None:\n",
        "\n",
        "        save_path = os.path.join(os.getcwd(), test_image.name)\n",
        "        print(save_path)\n",
        "\n",
        "        with open(save_path, \"wb\") as f:\n",
        "            f.write(test_image.getbuffer())\n",
        "\n",
        "    if(st.button(\"Show Image\")):\n",
        "        st.image(test_image,width=4,use_column_width=True)\n",
        "\n",
        "    #Predict button\n",
        "    if(st.button(\"Predict\")):\n",
        "        st.snow()\n",
        "        st.write(\"Our Prediction\")\n",
        "        result_index=model_predict(save_path)\n",
        "        print(result_index)\n",
        "\n",
        "\n",
        "        class_name = ['Apple___Apple_scab', 'Apple___Black_rot', 'Apple___Cedar_apple_rust', 'Apple___healthy',\n",
        "                    'Blueberry___healthy', 'Cherry_(including_sour)___Powdery_mildew',\n",
        "                    'Cherry_(including_sour)___healthy', 'Corn_(maize)___Cercospora_leaf_spot Gray_leaf_spot',\n",
        "                    'Corn_(maize)___Common_rust_', 'Corn_(maize)___Northern_Leaf_Blight', 'Corn_(maize)___healthy',\n",
        "                    'Grape___Black_rot', 'Grape___Esca_(Black_Measles)', 'Grape___Leaf_blight_(Isariopsis_Leaf_Spot)',\n",
        "                    'Grape___healthy', 'Orange___Haunglongbing_(Citrus_greening)', 'Peach___Bacterial_spot',\n",
        "                    'Peach___healthy', 'Pepper,_bell___Bacterial_spot', 'Pepper,_bell___healthy',\n",
        "                    'Potato___Early_blight', 'Potato___Late_blight', 'Potato___healthy',\n",
        "                    'Raspberry___healthy', 'Soybean___healthy', 'Squash___Powdery_mildew',\n",
        "                    'Strawberry___Leaf_scorch', 'Strawberry___healthy', 'Tomato___Bacterial_spot',\n",
        "                    'Tomato___Early_blight', 'Tomato___Late_blight', 'Tomato___Leaf_Mold',\n",
        "                    'Tomato___Septoria_leaf_spot', 'Tomato___Spider_mites Two-spotted_spider_mite',\n",
        "                    'Tomato___Target_Spot', 'Tomato___Tomato_Yellow_Leaf_Curl_Virus', 'Tomato___Tomato_mosaic_virus',\n",
        "                      'Tomato___healthy']\n",
        "\n",
        "\n",
        "\n",
        "\n",
        "        st.success(\"Model is Predicting it's a {}\".format(class_name[result_index]))"
      ]
    }
  ],
  "metadata": {
    "accelerator": "GPU",
    "colab": {
      "gpuType": "T4",
      "provenance": []
    },
    "kernelspec": {
      "display_name": "Python 3 (ipykernel)",
      "language": "python",
      "name": "python3"
    },
    "language_info": {
      "codemirror_mode": {
        "name": "ipython",
        "version": 3
      },
      "file_extension": ".py",
      "mimetype": "text/x-python",
      "name": "python",
      "nbconvert_exporter": "python",
      "pygments_lexer": "ipython3",
      "version": "3.9.13"
    }
  },
  "nbformat": 4,
  "nbformat_minor": 0
}